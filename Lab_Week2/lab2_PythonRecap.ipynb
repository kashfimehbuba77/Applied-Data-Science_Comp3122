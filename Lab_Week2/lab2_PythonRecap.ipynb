{
 "cells": [
  {
   "cell_type": "markdown",
   "id": "181f409d",
   "metadata": {},
   "source": [
    "# Lab2: Python Recap"
   ]
  },
  {
   "cell_type": "markdown",
   "id": "7ec5fbbb",
   "metadata": {},
   "source": [
    "## 1. Contains Duplicate"
   ]
  },
  {
   "cell_type": "markdown",
   "id": "af12119e",
   "metadata": {},
   "source": [
    "Given an integer array `nums`, return `true` if any value appears at least twice in the array, and return `false` if every element is distinct.\n",
    "\n",
    "https://leetcode.com/problems/contains-duplicate/description/"
   ]
  },
  {
   "cell_type": "code",
   "execution_count": null,
   "id": "d0913a5d",
   "metadata": {},
   "outputs": [
    {
     "name": "stdout",
     "output_type": "stream",
     "text": [
      "[8, 7]\n",
      "[2, 3, -1]\n",
      "[]\n"
     ]
    }
   ],
   "source": [
    "def repeating_elements(nums):\n",
    "    seen = set() #in set, i cannot have duplicate element \n",
    "    repeated = set() \n",
    "    for num in nums:\n",
    "        if num not in seen:\n",
    "            seen.append(num)\n",
    "        else:\n",
    "            repeated.append(num) \n",
    "    return list(repeated)           \n",
    "\n",
    "print(repeating_elements([9, 8, 7, 8, 7, 6, 5]))  # expected output : #True [8, 7]\n",
    "print(repeating_elements([-1, 2, 3, -1, 2, 3]))   # expected output : # True.[2, 3, -1]\n",
    "print(repeating_elements([1, 2, 3, 4, 5]))        # expected output : [] # False []"
   ]
  },
  {
   "cell_type": "markdown",
   "id": "483afe49",
   "metadata": {},
   "source": [
    "## 2. Valid Anagram"
   ]
  },
  {
   "cell_type": "markdown",
   "id": "92b8f85c",
   "metadata": {},
   "source": [
    "An `anagram` is a word or phrase formed by rearranging the letters of a different word or phrase, using all the original letters exactly once.\n",
    "\n",
    "https://leetcode.com/problems/valid-anagram/description/\n",
    "\n",
    "**Notes:** \n",
    "- `s` and `t` consist of lowercase English letters.\n",
    "- Do not use built-in functions like `sorted()` or `collections.Counter()` to solve this problem."
   ]
  },
  {
   "cell_type": "code",
   "execution_count": null,
   "id": "d9195873",
   "metadata": {},
   "outputs": [
    {
     "name": "stdout",
     "output_type": "stream",
     "text": [
      "True\n",
      "False\n"
     ]
    }
   ],
   "source": [
    "def count_occurance(my_string):\n",
    "    #char_to_occurance = {'a': 3, 'n': 1, ...}\n",
    "    char_to_occurance = {}\n",
    "    for char in my_string:\n",
    "        char_to_occurance[char] = char_to_occurance.get(char, 0) + 1\n",
    "\n",
    "    return char_to_occurance    \n",
    "\n",
    "def isAnagram(s, t):\n",
    "    #sanity check: length of two string\n",
    "    if len(s) != len(t):\n",
    "        return False\n",
    "    s_count = count_occurance(s)\n",
    "    t_count = count_occurance(t)\n",
    "    #char_to_occurance = {'a': 3, 'n':1, ...}\n",
    "    #check if s_count and t_count are the same\n",
    "    for key, value in s_count.items():\n",
    "        if value != t_count.get(key,0):\n",
    "            return False\n",
    "    return True\n",
    "\n",
    "\n",
    "print(isAnagram(\"anagram\", \"nagaram\")) # expected output : True\n",
    "print(isAnagram(\"rat\", \"car\"))       # expected output : False"
   ]
  },
  {
   "cell_type": "markdown",
   "id": "2e056654",
   "metadata": {},
   "source": [
    "## 3. Two Sum"
   ]
  },
  {
   "cell_type": "markdown",
   "id": "89b078b5",
   "metadata": {},
   "source": [
    "Given an array of integers `nums` and an integer `target`, return indices of the two numbers such that they add up to `target`.\n",
    "\n",
    "https://leetcode.com/problems/two-sum/description/\n",
    "\n",
    "**Notes:**\n",
    "\n",
    "- You may assume that each input would have exactly one solution, and you may not use the same element twice.\n",
    "\n",
    "- You can return the answer in any order.\n",
    "\n"
   ]
  },
  {
   "cell_type": "code",
   "execution_count": null,
   "id": "d2bce3de",
   "metadata": {},
   "outputs": [
    {
     "name": "stdout",
     "output_type": "stream",
     "text": [
      "None\n",
      "None\n",
      "None\n"
     ]
    }
   ],
   "source": [
    "def twoSum(nums, target):\n",
    "   #{elem: index} {2: 0, 7: 1, 11: 2, ...}\n",
    "   digit_to_index = {}\n",
    "   for i, num in enumerate(nums):\n",
    "      diff = target - num\n",
    "      if diff in digit_to_index:\n",
    "         return [i, digit_to_index[diff]]\n",
    "      else:\n",
    "         digit_to_index[num] = 1      \n",
    "\n",
    "print(twoSum([2,7,11,15], 9)) # expected output : [0, 1]\n",
    "print(twoSum([3,2,4], 6))     # expected output : [1, 2]\n",
    "print(twoSum([3,3], 6))       # expected output : [0, 1]"
   ]
  },
  {
   "cell_type": "markdown",
   "id": "899dd851",
   "metadata": {},
   "source": [
    "## 4. Frequent Words Finder\n",
    "Imagine working with large documents, such as news articles, thesis manuscripts, or even books. Identifying the most common words could give us an overview of the main themes or topics in the text.\n",
    "\n",
    "Given a large body of text, we need to identify the three most frequently occurring words. \n",
    "\n",
    "**Notes:**\n",
    "- Not case-sensitive (e.g., \"The\" and \"the\" are the same word).\n",
    "\n",
    "**Hint:** \n",
    "- Step 1: Normalize the text by converting it to lowercase.\n",
    "- Step 2: Split the text into words.\n",
    "- Step 3: Count the occurrences of each word.\n",
    "- Step 4: Identify the top three most frequent words. (You'll use this for `KNN` algorithm in the future lessons)\n",
    "\n"
   ]
  },
  {
   "cell_type": "code",
   "execution_count": 24,
   "id": "5f053266",
   "metadata": {},
   "outputs": [
    {
     "name": "stdout",
     "output_type": "stream",
     "text": [
      "[('the', 4), ('sun', 2), ('in', 2)]\n",
      "[('python', 3), ('is', 2), ('learning', 1)]\n",
      "[]\n"
     ]
    }
   ],
   "source": [
    "from collections import Counter\n",
    "import re\n",
    "\n",
    "def frequent_words_finder(text):\n",
    "    # Step 1: Normalize text to lowercase\n",
    "    text = text.lower()\n",
    "    \n",
    "    # Step 2: Split text into words, removing punctuation\n",
    "    words = re.findall(r'\\b\\w+\\b', text)\n",
    "    \n",
    "    # Step 3: Count occurrences of each word\n",
    "    word_counts = Counter(words)\n",
    "    \n",
    "    # Step 4: Get the top 3 most frequent words\n",
    "    most_common = word_counts.most_common(3)\n",
    "    \n",
    "    return most_common\n",
    "\n",
    "\n",
    "print(frequent_words_finder(\"The sun sets in the west, and the sun rises in the east.\"))\n",
    "# expected: [('the', 4), ('sun', 2), ('in', 2)]\n",
    "\n",
    "print(frequent_words_finder(\"Learning Python is fun because Python makes automation easy and Python is everywhere.\"))\n",
    "# expected: [('python', 3), ('is', 2), ('learning', 1)]  \n",
    "\n",
    "print(frequent_words_finder(\"\"))\n",
    "# expected: []"
   ]
  },
  {
   "cell_type": "markdown",
   "id": "be92145e",
   "metadata": {},
   "source": [
    "## 5. Majority Vote "
   ]
  },
  {
   "cell_type": "markdown",
   "id": "0df73ec1",
   "metadata": {},
   "source": [
    "Given a list of integers, our aim is to identify the \"majority element\". The majority element in a list is an element that appears more than n / 2 times. "
   ]
  },
  {
   "cell_type": "code",
   "execution_count": 25,
   "id": "8e924772",
   "metadata": {},
   "outputs": [
    {
     "name": "stdout",
     "output_type": "stream",
     "text": [
      "4\n",
      "-1\n",
      "2\n"
     ]
    }
   ],
   "source": [
    "def majority_vote(listA):\n",
    "    # Phase 1: Find a candidate using Boyer-Moore Voting Algorithm\n",
    "    candidate = None\n",
    "    count = 0\n",
    "    \n",
    "    for num in listA:\n",
    "        if count == 0:\n",
    "            candidate = num\n",
    "            count = 1\n",
    "        elif num == candidate:\n",
    "            count += 1\n",
    "        else:\n",
    "            count -= 1\n",
    "    \n",
    "    # Phase 2: Verify the candidate actually appears more than n/2 times\n",
    "    if candidate is not None and listA.count(candidate) > len(listA) // 2:\n",
    "        return candidate\n",
    "    else:\n",
    "        return -1\n",
    "    \n",
    "\n",
    "print(majority_vote([3, 3, 4, 2, 4, 4, 2, 4, 4])) # expected output : 4\n",
    "print(majority_vote([3, 3, 4, 2, 4, 4, 2, 4]))    # expected output : -1\n",
    "print(majority_vote([2, 2, 1, 1, 1, 2, 2]))          # expected output : 2"
   ]
  },
  {
   "cell_type": "markdown",
   "id": "8c31b707",
   "metadata": {},
   "source": [
    "## 6. Keyword Index"
   ]
  },
  {
   "cell_type": "markdown",
   "id": "39fd7ff6",
   "metadata": {},
   "source": [
    "We are given a list of strings, with each string representing a document. Our task is to generate an index of all the distinct words in the documents for quick reference. \n",
    "\n",
    "We need to create a dictionary where each unique word is a key, and the corresponding value is a list of indices pointing to the documents where the word can be found."
   ]
  },
  {
   "cell_type": "code",
   "execution_count": 26,
   "id": "1757d015",
   "metadata": {},
   "outputs": [
    {
     "name": "stdout",
     "output_type": "stream",
     "text": [
      "{'hello': [0, 1], 'world': [0, 2], 'there': [1], 'of': [2], 'python': [2]}\n",
      "{'data': [0, 2], 'science': [0], 'machine': [1], 'learning': [1, 3], 'analysis': [2], 'algorithms': [3]}\n",
      "{}\n"
     ]
    }
   ],
   "source": [
    "def keyword_index(docs):\n",
    "    inverted_index = {}\n",
    "    \n",
    "    for idx, doc in enumerate(docs):\n",
    "        # Split document into words and normalize to lowercase\n",
    "        words = doc.lower().split()\n",
    "        \n",
    "        for word in words:\n",
    "            if word not in inverted_index:\n",
    "                inverted_index[word] = []\n",
    "            if idx not in inverted_index[word]:\n",
    "                inverted_index[word].append(idx)\n",
    "    \n",
    "    return inverted_index\n",
    "    \n",
    "\n",
    "print(keyword_index([\"hello world\", \"hello there\", \"world of python\"]))\n",
    "# expected output : {'hello': [0, 1], 'world': [0, 2], 'there': [1], 'of': [2], 'python': [2]}\n",
    "\n",
    "print(keyword_index([\"data science\", \"machine learning\", \"data analysis\", \"learning algorithms\"]))\n",
    "# expected output : {'data': [0, 2], 'science': [0], 'machine': [1], 'learning': [1, 3], 'analysis': [2], 'algorithms': [3]}\n",
    "\n",
    "print(keyword_index([]))\n",
    "# expected output : {}"
   ]
  },
  {
   "cell_type": "code",
   "execution_count": null,
   "id": "681f994b",
   "metadata": {},
   "outputs": [],
   "source": []
  }
 ],
 "metadata": {
  "kernelspec": {
   "display_name": "Python 3",
   "language": "python",
   "name": "python3"
  },
  "language_info": {
   "codemirror_mode": {
    "name": "ipython",
    "version": 3
   },
   "file_extension": ".py",
   "mimetype": "text/x-python",
   "name": "python",
   "nbconvert_exporter": "python",
   "pygments_lexer": "ipython3",
   "version": "3.13.1"
  }
 },
 "nbformat": 4,
 "nbformat_minor": 5
}
